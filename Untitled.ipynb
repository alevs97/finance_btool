{
 "cells": [
  {
   "cell_type": "code",
   "execution_count": 51,
   "id": "a1d3ad2d",
   "metadata": {},
   "outputs": [],
   "source": [
    "import pandas as pd\n",
    "import yfinance as yf\n",
    "import numpy as np\n",
    "import re"
   ]
  },
  {
   "cell_type": "code",
   "execution_count": 2,
   "id": "6e5f5304",
   "metadata": {},
   "outputs": [],
   "source": [
    "ratios_verify = {'Current Ratio','Debt Ratio','Financial Leverage'}"
   ]
  },
  {
   "cell_type": "code",
   "execution_count": 72,
   "id": "e13d1e56",
   "metadata": {},
   "outputs": [],
   "source": [
    "msft = yf.Ticker(\"AAPL\")"
   ]
  },
  {
   "cell_type": "code",
   "execution_count": 74,
   "id": "9be27bef",
   "metadata": {},
   "outputs": [],
   "source": [
    "# Copy financial information \n",
    "result_sheet = msft.financials.copy()\n",
    "#balance_sheet = msft.balance_sheet.copy()\n",
    "#cash_flow = msft.cashflow.copy()\n"
   ]
  },
  {
   "cell_type": "code",
   "execution_count": 75,
   "id": "6b7ff609",
   "metadata": {},
   "outputs": [
    {
     "data": {
      "text/html": [
       "<div>\n",
       "<style scoped>\n",
       "    .dataframe tbody tr th:only-of-type {\n",
       "        vertical-align: middle;\n",
       "    }\n",
       "\n",
       "    .dataframe tbody tr th {\n",
       "        vertical-align: top;\n",
       "    }\n",
       "\n",
       "    .dataframe thead th {\n",
       "        text-align: right;\n",
       "    }\n",
       "</style>\n",
       "<table border=\"1\" class=\"dataframe\">\n",
       "  <thead>\n",
       "    <tr style=\"text-align: right;\">\n",
       "      <th></th>\n",
       "      <th>2021-09-25</th>\n",
       "      <th>2020-09-26</th>\n",
       "      <th>2019-09-28</th>\n",
       "      <th>2018-09-29</th>\n",
       "    </tr>\n",
       "  </thead>\n",
       "  <tbody>\n",
       "    <tr>\n",
       "      <th>Research Development</th>\n",
       "      <td>21914000000.0</td>\n",
       "      <td>18752000000.0</td>\n",
       "      <td>16217000000.0</td>\n",
       "      <td>14236000000.0</td>\n",
       "    </tr>\n",
       "    <tr>\n",
       "      <th>Effect Of Accounting Charges</th>\n",
       "      <td>None</td>\n",
       "      <td>None</td>\n",
       "      <td>None</td>\n",
       "      <td>None</td>\n",
       "    </tr>\n",
       "    <tr>\n",
       "      <th>Income Before Tax</th>\n",
       "      <td>109207000000.0</td>\n",
       "      <td>67091000000.0</td>\n",
       "      <td>65737000000.0</td>\n",
       "      <td>72903000000.0</td>\n",
       "    </tr>\n",
       "    <tr>\n",
       "      <th>Minority Interest</th>\n",
       "      <td>None</td>\n",
       "      <td>None</td>\n",
       "      <td>None</td>\n",
       "      <td>None</td>\n",
       "    </tr>\n",
       "    <tr>\n",
       "      <th>Net Income</th>\n",
       "      <td>94680000000.0</td>\n",
       "      <td>57411000000.0</td>\n",
       "      <td>55256000000.0</td>\n",
       "      <td>59531000000.0</td>\n",
       "    </tr>\n",
       "    <tr>\n",
       "      <th>Selling General Administrative</th>\n",
       "      <td>21973000000.0</td>\n",
       "      <td>19916000000.0</td>\n",
       "      <td>18245000000.0</td>\n",
       "      <td>16705000000.0</td>\n",
       "    </tr>\n",
       "    <tr>\n",
       "      <th>Gross Profit</th>\n",
       "      <td>152836000000.0</td>\n",
       "      <td>104956000000.0</td>\n",
       "      <td>98392000000.0</td>\n",
       "      <td>101839000000.0</td>\n",
       "    </tr>\n",
       "    <tr>\n",
       "      <th>Ebit</th>\n",
       "      <td>108949000000.0</td>\n",
       "      <td>66288000000.0</td>\n",
       "      <td>63930000000.0</td>\n",
       "      <td>70898000000.0</td>\n",
       "    </tr>\n",
       "    <tr>\n",
       "      <th>Operating Income</th>\n",
       "      <td>108949000000.0</td>\n",
       "      <td>66288000000.0</td>\n",
       "      <td>63930000000.0</td>\n",
       "      <td>70898000000.0</td>\n",
       "    </tr>\n",
       "    <tr>\n",
       "      <th>Other Operating Expenses</th>\n",
       "      <td>None</td>\n",
       "      <td>None</td>\n",
       "      <td>None</td>\n",
       "      <td>None</td>\n",
       "    </tr>\n",
       "    <tr>\n",
       "      <th>Interest Expense</th>\n",
       "      <td>-2645000000.0</td>\n",
       "      <td>-2873000000.0</td>\n",
       "      <td>-3576000000.0</td>\n",
       "      <td>-3240000000.0</td>\n",
       "    </tr>\n",
       "    <tr>\n",
       "      <th>Extraordinary Items</th>\n",
       "      <td>None</td>\n",
       "      <td>None</td>\n",
       "      <td>None</td>\n",
       "      <td>None</td>\n",
       "    </tr>\n",
       "    <tr>\n",
       "      <th>Non Recurring</th>\n",
       "      <td>None</td>\n",
       "      <td>None</td>\n",
       "      <td>None</td>\n",
       "      <td>None</td>\n",
       "    </tr>\n",
       "    <tr>\n",
       "      <th>Other Items</th>\n",
       "      <td>None</td>\n",
       "      <td>None</td>\n",
       "      <td>None</td>\n",
       "      <td>None</td>\n",
       "    </tr>\n",
       "    <tr>\n",
       "      <th>Income Tax Expense</th>\n",
       "      <td>14527000000.0</td>\n",
       "      <td>9680000000.0</td>\n",
       "      <td>10481000000.0</td>\n",
       "      <td>13372000000.0</td>\n",
       "    </tr>\n",
       "    <tr>\n",
       "      <th>Total Revenue</th>\n",
       "      <td>365817000000.0</td>\n",
       "      <td>274515000000.0</td>\n",
       "      <td>260174000000.0</td>\n",
       "      <td>265595000000.0</td>\n",
       "    </tr>\n",
       "    <tr>\n",
       "      <th>Total Operating Expenses</th>\n",
       "      <td>256868000000.0</td>\n",
       "      <td>208227000000.0</td>\n",
       "      <td>196244000000.0</td>\n",
       "      <td>194697000000.0</td>\n",
       "    </tr>\n",
       "    <tr>\n",
       "      <th>Cost Of Revenue</th>\n",
       "      <td>212981000000.0</td>\n",
       "      <td>169559000000.0</td>\n",
       "      <td>161782000000.0</td>\n",
       "      <td>163756000000.0</td>\n",
       "    </tr>\n",
       "    <tr>\n",
       "      <th>Total Other Income Expense Net</th>\n",
       "      <td>258000000.0</td>\n",
       "      <td>803000000.0</td>\n",
       "      <td>1807000000.0</td>\n",
       "      <td>2005000000.0</td>\n",
       "    </tr>\n",
       "    <tr>\n",
       "      <th>Discontinued Operations</th>\n",
       "      <td>None</td>\n",
       "      <td>None</td>\n",
       "      <td>None</td>\n",
       "      <td>None</td>\n",
       "    </tr>\n",
       "    <tr>\n",
       "      <th>Net Income From Continuing Ops</th>\n",
       "      <td>94680000000.0</td>\n",
       "      <td>57411000000.0</td>\n",
       "      <td>55256000000.0</td>\n",
       "      <td>59531000000.0</td>\n",
       "    </tr>\n",
       "    <tr>\n",
       "      <th>Net Income Applicable To Common Shares</th>\n",
       "      <td>94680000000.0</td>\n",
       "      <td>57411000000.0</td>\n",
       "      <td>55256000000.0</td>\n",
       "      <td>59531000000.0</td>\n",
       "    </tr>\n",
       "  </tbody>\n",
       "</table>\n",
       "</div>"
      ],
      "text/plain": [
       "                                            2021-09-25      2020-09-26  \\\n",
       "Research Development                     21914000000.0   18752000000.0   \n",
       "Effect Of Accounting Charges                      None            None   \n",
       "Income Before Tax                       109207000000.0   67091000000.0   \n",
       "Minority Interest                                 None            None   \n",
       "Net Income                               94680000000.0   57411000000.0   \n",
       "Selling General Administrative           21973000000.0   19916000000.0   \n",
       "Gross Profit                            152836000000.0  104956000000.0   \n",
       "Ebit                                    108949000000.0   66288000000.0   \n",
       "Operating Income                        108949000000.0   66288000000.0   \n",
       "Other Operating Expenses                          None            None   \n",
       "Interest Expense                         -2645000000.0   -2873000000.0   \n",
       "Extraordinary Items                               None            None   \n",
       "Non Recurring                                     None            None   \n",
       "Other Items                                       None            None   \n",
       "Income Tax Expense                       14527000000.0    9680000000.0   \n",
       "Total Revenue                           365817000000.0  274515000000.0   \n",
       "Total Operating Expenses                256868000000.0  208227000000.0   \n",
       "Cost Of Revenue                         212981000000.0  169559000000.0   \n",
       "Total Other Income Expense Net             258000000.0     803000000.0   \n",
       "Discontinued Operations                           None            None   \n",
       "Net Income From Continuing Ops           94680000000.0   57411000000.0   \n",
       "Net Income Applicable To Common Shares   94680000000.0   57411000000.0   \n",
       "\n",
       "                                            2019-09-28      2018-09-29  \n",
       "Research Development                     16217000000.0   14236000000.0  \n",
       "Effect Of Accounting Charges                      None            None  \n",
       "Income Before Tax                        65737000000.0   72903000000.0  \n",
       "Minority Interest                                 None            None  \n",
       "Net Income                               55256000000.0   59531000000.0  \n",
       "Selling General Administrative           18245000000.0   16705000000.0  \n",
       "Gross Profit                             98392000000.0  101839000000.0  \n",
       "Ebit                                     63930000000.0   70898000000.0  \n",
       "Operating Income                         63930000000.0   70898000000.0  \n",
       "Other Operating Expenses                          None            None  \n",
       "Interest Expense                         -3576000000.0   -3240000000.0  \n",
       "Extraordinary Items                               None            None  \n",
       "Non Recurring                                     None            None  \n",
       "Other Items                                       None            None  \n",
       "Income Tax Expense                       10481000000.0   13372000000.0  \n",
       "Total Revenue                           260174000000.0  265595000000.0  \n",
       "Total Operating Expenses                196244000000.0  194697000000.0  \n",
       "Cost Of Revenue                         161782000000.0  163756000000.0  \n",
       "Total Other Income Expense Net            1807000000.0    2005000000.0  \n",
       "Discontinued Operations                           None            None  \n",
       "Net Income From Continuing Ops           55256000000.0   59531000000.0  \n",
       "Net Income Applicable To Common Shares   55256000000.0   59531000000.0  "
      ]
     },
     "execution_count": 75,
     "metadata": {},
     "output_type": "execute_result"
    }
   ],
   "source": [
    "result_sheet"
   ]
  },
  {
   "cell_type": "code",
   "execution_count": 44,
   "id": "fde373ed",
   "metadata": {},
   "outputs": [
    {
     "data": {
      "text/plain": [
       "80"
      ]
     },
     "execution_count": 44,
     "metadata": {},
     "output_type": "execute_result"
    }
   ],
   "source": [
    "cash_flow.size"
   ]
  },
  {
   "cell_type": "code",
   "execution_count": 45,
   "id": "fcb4c692",
   "metadata": {},
   "outputs": [
    {
     "data": {
      "text/plain": [
       "104"
      ]
     },
     "execution_count": 45,
     "metadata": {},
     "output_type": "execute_result"
    }
   ],
   "source": [
    "balance_sheet.size"
   ]
  },
  {
   "cell_type": "code",
   "execution_count": 30,
   "id": "bb289739",
   "metadata": {},
   "outputs": [
    {
     "data": {
      "text/plain": [
       "DatetimeIndex(['2022-06-30', '2021-06-30', '2020-06-30', '2019-06-30'], dtype='datetime64[ns]', name='', freq=None)"
      ]
     },
     "execution_count": 30,
     "metadata": {},
     "output_type": "execute_result"
    }
   ],
   "source": [
    "balance_sheet.columns"
   ]
  },
  {
   "cell_type": "code",
   "execution_count": 20,
   "id": "e4f53df5",
   "metadata": {},
   "outputs": [
    {
     "data": {
      "text/plain": [
       "'2022-06-30 00:00:00'"
      ]
     },
     "execution_count": 20,
     "metadata": {},
     "output_type": "execute_result"
    }
   ],
   "source": [
    "array = list(balance_sheet.columns)\n",
    "str(array[0])"
   ]
  },
  {
   "cell_type": "code",
   "execution_count": 70,
   "id": "71b30575",
   "metadata": {},
   "outputs": [
    {
     "data": {
      "text/plain": [
       "['2022', '2021', '2020', '2019']"
      ]
     },
     "execution_count": 70,
     "metadata": {},
     "output_type": "execute_result"
    }
   ],
   "source": [
    "dates = sorted(set(map(lambda x: str(x.strftime(\"%Y\")), array)),reverse=True)\n",
    "dates"
   ]
  },
  {
   "cell_type": "code",
   "execution_count": 71,
   "id": "b8e274f7",
   "metadata": {},
   "outputs": [
    {
     "data": {
      "text/html": [
       "<div>\n",
       "<style scoped>\n",
       "    .dataframe tbody tr th:only-of-type {\n",
       "        vertical-align: middle;\n",
       "    }\n",
       "\n",
       "    .dataframe tbody tr th {\n",
       "        vertical-align: top;\n",
       "    }\n",
       "\n",
       "    .dataframe thead th {\n",
       "        text-align: right;\n",
       "    }\n",
       "</style>\n",
       "<table border=\"1\" class=\"dataframe\">\n",
       "  <thead>\n",
       "    <tr style=\"text-align: right;\">\n",
       "      <th></th>\n",
       "      <th>2022</th>\n",
       "      <th>2021</th>\n",
       "      <th>2020</th>\n",
       "      <th>2019</th>\n",
       "    </tr>\n",
       "  </thead>\n",
       "  <tbody>\n",
       "    <tr>\n",
       "      <th>Research Development</th>\n",
       "      <td>24512000000.0</td>\n",
       "      <td>20716000000.0</td>\n",
       "      <td>19269000000.0</td>\n",
       "      <td>16876000000.0</td>\n",
       "    </tr>\n",
       "    <tr>\n",
       "      <th>Effect Of Accounting Charges</th>\n",
       "      <td>None</td>\n",
       "      <td>None</td>\n",
       "      <td>None</td>\n",
       "      <td>None</td>\n",
       "    </tr>\n",
       "    <tr>\n",
       "      <th>Income Before Tax</th>\n",
       "      <td>83716000000.0</td>\n",
       "      <td>71102000000.0</td>\n",
       "      <td>53036000000.0</td>\n",
       "      <td>43688000000.0</td>\n",
       "    </tr>\n",
       "    <tr>\n",
       "      <th>Minority Interest</th>\n",
       "      <td>None</td>\n",
       "      <td>None</td>\n",
       "      <td>None</td>\n",
       "      <td>None</td>\n",
       "    </tr>\n",
       "    <tr>\n",
       "      <th>Net Income</th>\n",
       "      <td>72738000000.0</td>\n",
       "      <td>61271000000.0</td>\n",
       "      <td>44281000000.0</td>\n",
       "      <td>39240000000.0</td>\n",
       "    </tr>\n",
       "    <tr>\n",
       "      <th>Selling General Administrative</th>\n",
       "      <td>27725000000.0</td>\n",
       "      <td>25224000000.0</td>\n",
       "      <td>24709000000.0</td>\n",
       "      <td>23098000000.0</td>\n",
       "    </tr>\n",
       "    <tr>\n",
       "      <th>Gross Profit</th>\n",
       "      <td>135620000000.0</td>\n",
       "      <td>115856000000.0</td>\n",
       "      <td>96937000000.0</td>\n",
       "      <td>82933000000.0</td>\n",
       "    </tr>\n",
       "    <tr>\n",
       "      <th>Ebit</th>\n",
       "      <td>83383000000.0</td>\n",
       "      <td>69916000000.0</td>\n",
       "      <td>52959000000.0</td>\n",
       "      <td>42959000000.0</td>\n",
       "    </tr>\n",
       "    <tr>\n",
       "      <th>Operating Income</th>\n",
       "      <td>83383000000.0</td>\n",
       "      <td>69916000000.0</td>\n",
       "      <td>52959000000.0</td>\n",
       "      <td>42959000000.0</td>\n",
       "    </tr>\n",
       "    <tr>\n",
       "      <th>Other Operating Expenses</th>\n",
       "      <td>None</td>\n",
       "      <td>None</td>\n",
       "      <td>None</td>\n",
       "      <td>None</td>\n",
       "    </tr>\n",
       "    <tr>\n",
       "      <th>Interest Expense</th>\n",
       "      <td>-2047000000.0</td>\n",
       "      <td>-2330000000.0</td>\n",
       "      <td>-2591000000.0</td>\n",
       "      <td>-2686000000.0</td>\n",
       "    </tr>\n",
       "    <tr>\n",
       "      <th>Extraordinary Items</th>\n",
       "      <td>None</td>\n",
       "      <td>None</td>\n",
       "      <td>None</td>\n",
       "      <td>None</td>\n",
       "    </tr>\n",
       "    <tr>\n",
       "      <th>Non Recurring</th>\n",
       "      <td>None</td>\n",
       "      <td>None</td>\n",
       "      <td>None</td>\n",
       "      <td>None</td>\n",
       "    </tr>\n",
       "    <tr>\n",
       "      <th>Other Items</th>\n",
       "      <td>None</td>\n",
       "      <td>None</td>\n",
       "      <td>None</td>\n",
       "      <td>None</td>\n",
       "    </tr>\n",
       "    <tr>\n",
       "      <th>Income Tax Expense</th>\n",
       "      <td>10978000000.0</td>\n",
       "      <td>9831000000.0</td>\n",
       "      <td>8755000000.0</td>\n",
       "      <td>4448000000.0</td>\n",
       "    </tr>\n",
       "    <tr>\n",
       "      <th>Total Revenue</th>\n",
       "      <td>198270000000.0</td>\n",
       "      <td>168088000000.0</td>\n",
       "      <td>143015000000.0</td>\n",
       "      <td>125843000000.0</td>\n",
       "    </tr>\n",
       "    <tr>\n",
       "      <th>Total Operating Expenses</th>\n",
       "      <td>114887000000.0</td>\n",
       "      <td>98172000000.0</td>\n",
       "      <td>90056000000.0</td>\n",
       "      <td>82884000000.0</td>\n",
       "    </tr>\n",
       "    <tr>\n",
       "      <th>Cost Of Revenue</th>\n",
       "      <td>62650000000.0</td>\n",
       "      <td>52232000000.0</td>\n",
       "      <td>46078000000.0</td>\n",
       "      <td>42910000000.0</td>\n",
       "    </tr>\n",
       "    <tr>\n",
       "      <th>Total Other Income Expense Net</th>\n",
       "      <td>333000000.0</td>\n",
       "      <td>1186000000.0</td>\n",
       "      <td>77000000.0</td>\n",
       "      <td>729000000.0</td>\n",
       "    </tr>\n",
       "    <tr>\n",
       "      <th>Discontinued Operations</th>\n",
       "      <td>None</td>\n",
       "      <td>None</td>\n",
       "      <td>None</td>\n",
       "      <td>None</td>\n",
       "    </tr>\n",
       "    <tr>\n",
       "      <th>Net Income From Continuing Ops</th>\n",
       "      <td>72738000000.0</td>\n",
       "      <td>61271000000.0</td>\n",
       "      <td>44281000000.0</td>\n",
       "      <td>39240000000.0</td>\n",
       "    </tr>\n",
       "    <tr>\n",
       "      <th>Net Income Applicable To Common Shares</th>\n",
       "      <td>72738000000.0</td>\n",
       "      <td>61271000000.0</td>\n",
       "      <td>44281000000.0</td>\n",
       "      <td>39240000000.0</td>\n",
       "    </tr>\n",
       "  </tbody>\n",
       "</table>\n",
       "</div>"
      ],
      "text/plain": [
       "                                                  2022            2021  \\\n",
       "Research Development                     24512000000.0   20716000000.0   \n",
       "Effect Of Accounting Charges                      None            None   \n",
       "Income Before Tax                        83716000000.0   71102000000.0   \n",
       "Minority Interest                                 None            None   \n",
       "Net Income                               72738000000.0   61271000000.0   \n",
       "Selling General Administrative           27725000000.0   25224000000.0   \n",
       "Gross Profit                            135620000000.0  115856000000.0   \n",
       "Ebit                                     83383000000.0   69916000000.0   \n",
       "Operating Income                         83383000000.0   69916000000.0   \n",
       "Other Operating Expenses                          None            None   \n",
       "Interest Expense                         -2047000000.0   -2330000000.0   \n",
       "Extraordinary Items                               None            None   \n",
       "Non Recurring                                     None            None   \n",
       "Other Items                                       None            None   \n",
       "Income Tax Expense                       10978000000.0    9831000000.0   \n",
       "Total Revenue                           198270000000.0  168088000000.0   \n",
       "Total Operating Expenses                114887000000.0   98172000000.0   \n",
       "Cost Of Revenue                          62650000000.0   52232000000.0   \n",
       "Total Other Income Expense Net             333000000.0    1186000000.0   \n",
       "Discontinued Operations                           None            None   \n",
       "Net Income From Continuing Ops           72738000000.0   61271000000.0   \n",
       "Net Income Applicable To Common Shares   72738000000.0   61271000000.0   \n",
       "\n",
       "                                                  2020            2019  \n",
       "Research Development                     19269000000.0   16876000000.0  \n",
       "Effect Of Accounting Charges                      None            None  \n",
       "Income Before Tax                        53036000000.0   43688000000.0  \n",
       "Minority Interest                                 None            None  \n",
       "Net Income                               44281000000.0   39240000000.0  \n",
       "Selling General Administrative           24709000000.0   23098000000.0  \n",
       "Gross Profit                             96937000000.0   82933000000.0  \n",
       "Ebit                                     52959000000.0   42959000000.0  \n",
       "Operating Income                         52959000000.0   42959000000.0  \n",
       "Other Operating Expenses                          None            None  \n",
       "Interest Expense                         -2591000000.0   -2686000000.0  \n",
       "Extraordinary Items                               None            None  \n",
       "Non Recurring                                     None            None  \n",
       "Other Items                                       None            None  \n",
       "Income Tax Expense                        8755000000.0    4448000000.0  \n",
       "Total Revenue                           143015000000.0  125843000000.0  \n",
       "Total Operating Expenses                 90056000000.0   82884000000.0  \n",
       "Cost Of Revenue                          46078000000.0   42910000000.0  \n",
       "Total Other Income Expense Net              77000000.0     729000000.0  \n",
       "Discontinued Operations                           None            None  \n",
       "Net Income From Continuing Ops           44281000000.0   39240000000.0  \n",
       "Net Income Applicable To Common Shares   44281000000.0   39240000000.0  "
      ]
     },
     "execution_count": 71,
     "metadata": {},
     "output_type": "execute_result"
    }
   ],
   "source": [
    "result_sheet.columns=dates\n",
    "result_sheet"
   ]
  },
  {
   "cell_type": "code",
   "execution_count": 67,
   "id": "bd55c258",
   "metadata": {},
   "outputs": [
    {
     "ename": "NameError",
     "evalue": "name 'cash_flow_sheet' is not defined",
     "output_type": "error",
     "traceback": [
      "\u001b[1;31m---------------------------------------------------------------------------\u001b[0m",
      "\u001b[1;31mNameError\u001b[0m                                 Traceback (most recent call last)",
      "Cell \u001b[1;32mIn [67], line 1\u001b[0m\n\u001b[1;32m----> 1\u001b[0m \u001b[43mcash_flow_sheet\u001b[49m\n",
      "\u001b[1;31mNameError\u001b[0m: name 'cash_flow_sheet' is not defined"
     ]
    }
   ],
   "source": [
    "result_sheet"
   ]
  },
  {
   "cell_type": "code",
   "execution_count": null,
   "id": "b180e8e8",
   "metadata": {},
   "outputs": [],
   "source": []
  },
  {
   "cell_type": "code",
   "execution_count": null,
   "id": "24881b25",
   "metadata": {},
   "outputs": [],
   "source": []
  },
  {
   "cell_type": "code",
   "execution_count": null,
   "id": "465f2f75",
   "metadata": {},
   "outputs": [],
   "source": []
  },
  {
   "cell_type": "code",
   "execution_count": 9,
   "id": "d4fc8261",
   "metadata": {},
   "outputs": [
    {
     "data": {
      "text/html": [
       "<div>\n",
       "<style scoped>\n",
       "    .dataframe tbody tr th:only-of-type {\n",
       "        vertical-align: middle;\n",
       "    }\n",
       "\n",
       "    .dataframe tbody tr th {\n",
       "        vertical-align: top;\n",
       "    }\n",
       "\n",
       "    .dataframe thead th {\n",
       "        text-align: right;\n",
       "    }\n",
       "</style>\n",
       "<table border=\"1\" class=\"dataframe\">\n",
       "  <thead>\n",
       "    <tr style=\"text-align: right;\">\n",
       "      <th></th>\n",
       "      <th>2022-06-30</th>\n",
       "      <th>2021-06-30</th>\n",
       "      <th>2020-06-30</th>\n",
       "      <th>2019-06-30</th>\n",
       "    </tr>\n",
       "  </thead>\n",
       "  <tbody>\n",
       "    <tr>\n",
       "      <th>Research Development</th>\n",
       "      <td>24512000000.0</td>\n",
       "      <td>20716000000.0</td>\n",
       "      <td>19269000000.0</td>\n",
       "      <td>16876000000.0</td>\n",
       "    </tr>\n",
       "    <tr>\n",
       "      <th>Effect Of Accounting Charges</th>\n",
       "      <td>None</td>\n",
       "      <td>None</td>\n",
       "      <td>None</td>\n",
       "      <td>None</td>\n",
       "    </tr>\n",
       "    <tr>\n",
       "      <th>Income Before Tax</th>\n",
       "      <td>83716000000.0</td>\n",
       "      <td>71102000000.0</td>\n",
       "      <td>53036000000.0</td>\n",
       "      <td>43688000000.0</td>\n",
       "    </tr>\n",
       "    <tr>\n",
       "      <th>Minority Interest</th>\n",
       "      <td>None</td>\n",
       "      <td>None</td>\n",
       "      <td>None</td>\n",
       "      <td>None</td>\n",
       "    </tr>\n",
       "    <tr>\n",
       "      <th>Net Income</th>\n",
       "      <td>72738000000.0</td>\n",
       "      <td>61271000000.0</td>\n",
       "      <td>44281000000.0</td>\n",
       "      <td>39240000000.0</td>\n",
       "    </tr>\n",
       "  </tbody>\n",
       "</table>\n",
       "</div>"
      ],
      "text/plain": [
       "                                 2022-06-30     2021-06-30     2020-06-30  \\\n",
       "Research Development          24512000000.0  20716000000.0  19269000000.0   \n",
       "Effect Of Accounting Charges           None           None           None   \n",
       "Income Before Tax             83716000000.0  71102000000.0  53036000000.0   \n",
       "Minority Interest                      None           None           None   \n",
       "Net Income                    72738000000.0  61271000000.0  44281000000.0   \n",
       "\n",
       "                                 2019-06-30  \n",
       "Research Development          16876000000.0  \n",
       "Effect Of Accounting Charges           None  \n",
       "Income Before Tax             43688000000.0  \n",
       "Minority Interest                      None  \n",
       "Net Income                    39240000000.0  "
      ]
     },
     "execution_count": 9,
     "metadata": {},
     "output_type": "execute_result"
    }
   ],
   "source": [
    "result_sheet.head()"
   ]
  },
  {
   "cell_type": "code",
   "execution_count": 9,
   "id": "ff991326",
   "metadata": {},
   "outputs": [],
   "source": [
    "# Ratios that you could you obtain dividing to inputs\n",
    "simple_ratios = {\n",
    "    'Current Ratio':('Total Current Assets','Total Current Liabilities'),\n",
    "    'Debt Ratio': ('Total Liab','Total Assets'),\n",
    "    'Financial Leverage': ('Total Liab','Total Stockholder Equity'),\n",
    "    #'Return of Equity - ROE': ('Net Income','Total Stockholder Equity'),\n",
    "    #'Net Profit Margin': ('Net Income','Total Revenue'),\n",
    "    #'Operating Margin' : ('Ebita','Total Revenue'),\n",
    "}"
   ]
  },
  {
   "cell_type": "code",
   "execution_count": 6,
   "id": "cc541a8c",
   "metadata": {},
   "outputs": [
    {
     "data": {
      "text/plain": [
       "'Total Current Assets'"
      ]
     },
     "execution_count": 6,
     "metadata": {},
     "output_type": "execute_result"
    }
   ],
   "source": [
    "simple_ratios['Current Ratio'][0]"
   ]
  },
  {
   "cell_type": "code",
   "execution_count": 59,
   "id": "49674e7e",
   "metadata": {},
   "outputs": [
    {
     "data": {
      "text/plain": [
       "'2022'"
      ]
     },
     "execution_count": 59,
     "metadata": {},
     "output_type": "execute_result"
    }
   ],
   "source": [
    "string =\"2022-06-30\"\n",
    "re.match(r\"[0-9]{4}\",string).group()\n"
   ]
  },
  {
   "cell_type": "code",
   "execution_count": null,
   "id": "97e58e52",
   "metadata": {},
   "outputs": [],
   "source": [
    "balance_sheet[re][\"Intangible Assets\"]"
   ]
  },
  {
   "cell_type": "code",
   "execution_count": 49,
   "id": "50e76f76",
   "metadata": {},
   "outputs": [
    {
     "data": {
      "text/plain": [
       "11298000000.0"
      ]
     },
     "execution_count": 49,
     "metadata": {},
     "output_type": "execute_result"
    }
   ],
   "source": [
    "balance_sheet[\"2022-06-30\"][\"Intangible Assets\"]"
   ]
  },
  {
   "cell_type": "code",
   "execution_count": 60,
   "id": "03ac7b8e",
   "metadata": {},
   "outputs": [
    {
     "data": {
      "text/plain": [
       "DatetimeIndex(['2022-06-30', '2021-06-30', '2020-06-30', '2019-06-30'], dtype='datetime64[ns]', name='', freq=None)"
      ]
     },
     "execution_count": 60,
     "metadata": {},
     "output_type": "execute_result"
    }
   ],
   "source": [
    "balance_sheet.columns"
   ]
  },
  {
   "cell_type": "code",
   "execution_count": 12,
   "id": "7841a2cd",
   "metadata": {},
   "outputs": [],
   "source": [
    "current_ratio = []\n",
    "dic_result = {}\n",
    "\n",
    "ratios_balance = {'Current Ratio','Debt Ratio','Financial Leverage'}\n",
    "ratios_both = {'Return of Equity - ROE'}\n",
    "ratios_result = {'Net Profit Margin','Operating Margin'}\n",
    "\n",
    "\n",
    "for ratio in ratios_verify:\n",
    "    ratios = []\n",
    "    \n",
    "\n",
    "    for column in range(0,4):\n",
    "        result_ratio = np.divide(balance_sheet.iloc[:,column].at[simple_ratios[ratio][0]], balance_sheet.iloc[:,column].at[simple_ratios[ratio][1]])\n",
    "        ratios.append(result_ratio)\n",
    "\n",
    "        dic_result[ratio] = ratios\n",
    "            \n",
    "    \n",
    "    \n",
    "\n",
    "#current_ratio"
   ]
  },
  {
   "cell_type": "code",
   "execution_count": 13,
   "id": "d4b426dd",
   "metadata": {},
   "outputs": [
    {
     "data": {
      "text/html": [
       "<div>\n",
       "<style scoped>\n",
       "    .dataframe tbody tr th:only-of-type {\n",
       "        vertical-align: middle;\n",
       "    }\n",
       "\n",
       "    .dataframe tbody tr th {\n",
       "        vertical-align: top;\n",
       "    }\n",
       "\n",
       "    .dataframe thead th {\n",
       "        text-align: right;\n",
       "    }\n",
       "</style>\n",
       "<table border=\"1\" class=\"dataframe\">\n",
       "  <thead>\n",
       "    <tr style=\"text-align: right;\">\n",
       "      <th></th>\n",
       "      <th>Debt Ratio</th>\n",
       "      <th>Current Ratio</th>\n",
       "      <th>Financial Leverage</th>\n",
       "    </tr>\n",
       "  </thead>\n",
       "  <tbody>\n",
       "    <tr>\n",
       "      <th>0</th>\n",
       "      <td>0.543520</td>\n",
       "      <td>1.784607</td>\n",
       "      <td>1.190679</td>\n",
       "    </tr>\n",
       "    <tr>\n",
       "      <th>1</th>\n",
       "      <td>0.574605</td>\n",
       "      <td>2.079994</td>\n",
       "      <td>1.350755</td>\n",
       "    </tr>\n",
       "    <tr>\n",
       "      <th>2</th>\n",
       "      <td>0.607369</td>\n",
       "      <td>2.515765</td>\n",
       "      <td>1.546921</td>\n",
       "    </tr>\n",
       "    <tr>\n",
       "      <th>3</th>\n",
       "      <td>0.642897</td>\n",
       "      <td>2.528839</td>\n",
       "      <td>1.800313</td>\n",
       "    </tr>\n",
       "  </tbody>\n",
       "</table>\n",
       "</div>"
      ],
      "text/plain": [
       "   Debt Ratio  Current Ratio  Financial Leverage\n",
       "0    0.543520       1.784607            1.190679\n",
       "1    0.574605       2.079994            1.350755\n",
       "2    0.607369       2.515765            1.546921\n",
       "3    0.642897       2.528839            1.800313"
      ]
     },
     "execution_count": 13,
     "metadata": {},
     "output_type": "execute_result"
    }
   ],
   "source": [
    "df = pd.DataFrame(dic_result)\n",
    "df"
   ]
  },
  {
   "cell_type": "code",
   "execution_count": 14,
   "id": "51bf6273",
   "metadata": {},
   "outputs": [
    {
     "data": {
      "text/plain": [
       "[]"
      ]
     },
     "execution_count": 14,
     "metadata": {},
     "output_type": "execute_result"
    }
   ],
   "source": [
    "\n",
    "current_ratio"
   ]
  },
  {
   "cell_type": "code",
   "execution_count": 43,
   "id": "de101ecd",
   "metadata": {},
   "outputs": [
    {
     "data": {
      "text/plain": [
       "1.7846069708251824"
      ]
     },
     "execution_count": 43,
     "metadata": {},
     "output_type": "execute_result"
    }
   ],
   "source": [
    "np.divide(balance_sheet.iloc[:,0].at['Total Current Assets'], balance_sheet.iloc[:,0].at['Total Current Liabilities'])"
   ]
  },
  {
   "cell_type": "code",
   "execution_count": 52,
   "id": "bedc171f",
   "metadata": {},
   "outputs": [],
   "source": [
    "a = (\"ratio\",[1,2,3,4,5,6,7,8,9])\n",
    "\n",
    "diccionario = dict([a])"
   ]
  },
  {
   "cell_type": "code",
   "execution_count": 53,
   "id": "55fcd2c3",
   "metadata": {},
   "outputs": [
    {
     "data": {
      "text/plain": [
       "{'ratio': [1, 2, 3, 4, 5, 6, 7, 8, 9]}"
      ]
     },
     "execution_count": 53,
     "metadata": {},
     "output_type": "execute_result"
    }
   ],
   "source": [
    "diccionario"
   ]
  }
 ],
 "metadata": {
  "kernelspec": {
   "display_name": "Python 3 (ipykernel)",
   "language": "python",
   "name": "python3"
  },
  "language_info": {
   "codemirror_mode": {
    "name": "ipython",
    "version": 3
   },
   "file_extension": ".py",
   "mimetype": "text/x-python",
   "name": "python",
   "nbconvert_exporter": "python",
   "pygments_lexer": "ipython3",
   "version": "3.9.13"
  }
 },
 "nbformat": 4,
 "nbformat_minor": 5
}
